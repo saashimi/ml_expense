{
 "cells": [
  {
   "cell_type": "code",
   "execution_count": 88,
   "metadata": {
    "scrolled": true
   },
   "outputs": [
    {
     "name": "stderr",
     "output_type": "stream",
     "text": [
      "C:\\Users\\saavedrak\\AppData\\Local\\Continuum\\anaconda3\\envs\\ml_expense\\lib\\site-packages\\ipykernel_launcher.py:20: SettingWithCopyWarning: \n",
      "A value is trying to be set on a copy of a slice from a DataFrame.\n",
      "Try using .loc[row_indexer,col_indexer] = value instead\n",
      "\n",
      "See the caveats in the documentation: http://pandas.pydata.org/pandas-docs/stable/indexing.html#indexing-view-versus-copy\n"
     ]
    },
    {
     "name": "stdout",
     "output_type": "stream",
     "text": [
      " 1) EUBF                           0.288297\n",
      " 2) YEAR                           0.227014\n",
      " 3) DELTA_RAISE                    0.221396\n",
      " 4) DISC                           0.111340\n",
      " 5) FOOD                           0.087037\n",
      " 6) MONTH                          0.051426\n",
      " 7) EMPLYR                         0.009259\n",
      " 8) ACTIVE_RET                     0.004231\n",
      " 9) ACTIVE_LOANS                   0.000000\n"
     ]
    },
    {
     "data": {
      "image/png": "[encoded data removed]",
      "text/plain": [
       "<matplotlib.figure.Figure at 0xa6dde10>"
      ]
     },
     "metadata": {},
     "output_type": "display_data"
    },
    {
     "name": "stdout",
     "output_type": "stream",
     "text": [
      "0.8 predictive accuracy.\n"
     ]
    }
   ],
   "source": [
    "import pandas as pd\n",
    "import numpy as np\n",
    "import matplotlib.pyplot as plt\n",
    "from sklearn.preprocessing import LabelEncoder\n",
    "\n",
    "pd.set_option('display.max_rows', None)  \n",
    "df = pd.read_csv('data/purchases2.csv')\n",
    "\n",
    "df_sample = df.sample(n=15)\n",
    "y = np.asarray(df_sample['DISP_RANGE'], dtype=\"|S6\")\n",
    "\n",
    "# Columns to include in sample\n",
    "cols = df_sample[['MONTH', 'YEAR', '', 'DISC', 'EUBF', 'ACTIVE_LOANS', 'DELTA_RAISE', 'EMPLYR', 'ACTIVE_RET']]\n",
    "# Columns to analyze feature importances\n",
    "cat_columns = ['MONTH', 'YEAR', 'DISC', 'EUBF', 'ACTIVE_LOANS', 'DELTA_RAISE', 'EMPLYR', 'ACTIVE_RET']\n",
    "\n",
    "\n",
    "for column in cat_columns:\n",
    "    categorical_mapping = {label: idx for idx, label in enumerate(np.unique(cols['{0}'.format(column)]))}\n",
    "    cols['{0}'.format(column)] = cols['{0}'.format(column)].map(categorical_mapping)\n",
    "\n",
    "from distutils.version import LooseVersion as Version\n",
    "from sklearn import __version__ as sklearn_version\n",
    "    \n",
    "if Version(sklearn_version) < '0.18':\n",
    "    from sklearn.cross_validation import train_test_split\n",
    "else:\n",
    "    from sklearn.model_selection import train_test_split\n",
    "\n",
    "X = cols.iloc[:, :].values\n",
    "\n",
    "X_train, X_test, y_train, y_test = train_test_split(X, y, test_size=0.3, random_state=0)\n",
    "\n",
    "\n",
    "#DETERMINE FEATURE IMPORTANCES\n",
    "\n",
    "from sklearn.ensemble import RandomForestClassifier\n",
    "\n",
    "feat_labels = cols.columns[:]\n",
    "\n",
    "forest = RandomForestClassifier(n_estimators=20,\n",
    "                                random_state=0,\n",
    "                                n_jobs=-1) # -1 sets n_jobs=n_CPU cores\n",
    "\n",
    "forest.fit(X_train, y_train)\n",
    "importances = forest.feature_importances_\n",
    "\n",
    "indices = np.argsort(importances)[::-1]\n",
    "\n",
    "for f in range(X_train.shape[1]):\n",
    "    print(\"%2d) %-*s %f\" % (f + 1, 30, \n",
    "                            feat_labels[indices[f]], \n",
    "                            importances[indices[f]]))\n",
    "\n",
    "plt.title('Feature Importances')\n",
    "plt.bar(range(X_train.shape[1]), \n",
    "        importances[indices],\n",
    "        color='lightblue', \n",
    "        align='center')\n",
    "\n",
    "plt.xticks(range(X_train.shape[1]), \n",
    "           feat_labels[indices], rotation=90)\n",
    "plt.xlim([-1, X_train.shape[1]])\n",
    "plt.tight_layout()\n",
    "plt.show()\n",
    "\n",
    "from sklearn.metrics import accuracy_score\n",
    "\n",
    "forest = RandomForestClassifier(n_estimators=10000,\n",
    "                                random_state=0,\n",
    "                                n_jobs=-1) # -1 sets n_jobs=n_CPU cores\n",
    "\n",
    "forest.fit(X_train, y_train)\n",
    "y_predict = forest.predict(X)\n",
    "y_actual = y\n",
    "\n",
    "print(str(accuracy_score(y_actual, y_predict)) + \" predictive accuracy.\")\n"
   ]
  }
 ],
 "metadata": {
  "kernelspec": {
   "display_name": "Python 3",
   "language": "python",
   "name": "python3"
  },
  "language_info": {
   "codemirror_mode": {
    "name": "ipython",
    "version": 3
   },
   "file_extension": ".py",
   "mimetype": "text/x-python",
   "name": "python",
   "nbconvert_exporter": "python",
   "pygments_lexer": "ipython3",
   "version": "3.5.4"
  }
 },
 "nbformat": 4,
 "nbformat_minor": 2
}
